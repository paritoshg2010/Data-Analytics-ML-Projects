{
 "cells": [
  {
   "cell_type": "code",
   "execution_count": 86,
   "metadata": {},
   "outputs": [
    {
     "name": "stdout",
     "output_type": "stream",
     "text": [
      "CSV generation complete!\n"
     ]
    }
   ],
   "source": [
    "import csv\n",
    "from faker import Faker\n",
    "\n",
    "\n",
    "def datagenerate(records, headers):\n",
    "    fake = Faker('en_GB')\n",
    "    \n",
    "    with open(\"Customer_data.csv\", 'wt') as csvFile:\n",
    "        writer = csv.DictWriter(csvFile, fieldnames=headers)\n",
    "        writer.writeheader()\n",
    "        for i in range(records):\n",
    "            full_name = fake.name()\n",
    "            FLname = full_name.split(\" \")\n",
    "            Fname = FLname[0]\n",
    "            Lname = FLname[1]\n",
    "            domain_name = \"@example.com\"\n",
    "            emailId = Fname +\".\"+ Lname + str(i+1) + domain_name\n",
    "            age = fake.random_int(min=15, max=99, step=1)\n",
    "            creditScore = fake.random_int(min=350, max=850, step=1)\n",
    "            NoD = fake.random_int(min=0, max=4, step=1)\n",
    "            MI = fake.random_int(min=3000, max=6000, step=500)\n",
    "                        \n",
    "            writer.writerow({\n",
    "                    \"Customer Id\" : i+1,\n",
    "                    \"Name\": full_name,\n",
    "                    \"Age\" : age,\n",
    "                    \"Marital Status\" : 'N' if age < 21 else fake.random_element(elements = ('N','Y')),\n",
    "                    \"Phone Number\" : fake.phone_number(),\n",
    "                    \"Email Id\" : emailId,\n",
    "                    \"Country\" : fake.random_element(elements = ('Northern Ireland','England','Scotland', 'Wales')),\n",
    "                    \"Credit Score\": creditScore,\n",
    "                    \"Monthly Income\": MI,\n",
    "                    \"Full-time Employment\" : fake.random_element(elements = ('N','Y')),\n",
    "                    \"Home Owner\" : fake.random_element(elements = ('N','Y')),\n",
    "                    \"Education Level\" : fake.random_element(elements = ('Secondary','Bachelors','Masters', 'Phd')),\n",
    "                    \"Number of Dependents\": NoD,\n",
    "                    \"CC Approval\": '0' if creditScore <500 and NoD > 2  else fake.random_element(elements = ('1' , '0'))\n",
    "                    })\n",
    "    \n",
    "if __name__ == '__main__':\n",
    "    records = 5000\n",
    "    headers = [\"Customer Id\", \"Name\", \"Age\", \"Marital Status\", \"Phone Number\", \"Email Id\",\n",
    "               \"Country\",\"Credit Score\", \"Monthly Income\", \"Full-time Employment\", \"Home Owner\",\n",
    "               \"Education Level\", \"Number of Dependents\", \"CC Approval\"]\n",
    "    datagenerate(records, headers)\n",
    "    print(\"CSV generation complete!\")"
   ]
  },
  {
   "cell_type": "code",
   "execution_count": 157,
   "metadata": {},
   "outputs": [
    {
     "name": "stdout",
     "output_type": "stream",
     "text": [
      "CSV generation complete!\n"
     ]
    }
   ],
   "source": [
    "import csv\n",
    "from faker import Faker\n",
    "\n",
    "\n",
    "def datagenerate(records, headers):\n",
    "    fake = Faker('en_GB')\n",
    "    \n",
    "    with open(\"Rewardpoint_Data.csv\", 'wt') as csvFile:\n",
    "        writer = csv.DictWriter(csvFile, fieldnames=headers)\n",
    "        writer.writeheader()\n",
    "        for i in range(records):\n",
    "            full_name = fake.name()\n",
    "            FLname = full_name.split(\" \")\n",
    "            Fname = FLname[0]\n",
    "            Lname = FLname[1]\n",
    "            domain_name = \"@example.com\"\n",
    "            emailId = Fname +\".\"+ Lname + str(i+1) + domain_name\n",
    "            age = fake.random_int(min=24, max=85, step=1)\n",
    "            FPD = fake.date_between(start_date='-3y', end_date='today')\n",
    "            LPD = fake.date_between(start_date=FPD, end_date='today')\n",
    "            OOP = fake.random_int(min=10, max=100, step=5) if FPD == LPD else fake.random_int(min=100, max=200, step=5)\n",
    "            IP =  0 if FPD == LPD else fake.random_int(min=150, max=400, step=5)\n",
    "            Purchase = OOP + IP\n",
    "            Reward = int(Purchase * .15)\n",
    "                        \n",
    "            writer.writerow({\n",
    "                    \"Customer Id\" : i+1,\n",
    "                    \"Name\": full_name,\n",
    "                    \"Age\" : age,\n",
    "                    \"Phone Number\" : fake.phone_number(),\n",
    "                    \"Email Id\" : emailId,\n",
    "                    \"Country\" : fake.random_element(elements = ('Northern Ireland','England','Scotland', 'Wales')),\n",
    "                    \"First Purchase Date\": str(FPD),\n",
    "                    \"Last Purchase Date\": str(LPD),\n",
    "                    \"Purchases\": Purchase,\n",
    "                    \"Purchase Freq\": 0.1 if FPD == LPD else fake.random_int(min=15, max=100, step=5)/100,\n",
    "                    \"One of Purchase\" : OOP,\n",
    "                    \"Installment Purchase\" : IP,\n",
    "                    \"Reward Points\" : Reward\n",
    "                    })\n",
    "    \n",
    "if __name__ == '__main__':\n",
    "    records = 5000\n",
    "    headers = [\"Customer Id\", \"Name\", \"Age\", \"Phone Number\", \"Email Id\",\n",
    "               \"Country\", \"First Purchase Date\", \"Last Purchase Date\", \"Purchases\", \"Purchase Freq\", \"One of Purchase\", \"Installment Purchase\",\n",
    "               \"Reward Points\"]\n",
    "    datagenerate(records, headers)\n",
    "    print(\"CSV generation complete!\")"
   ]
  },
  {
   "cell_type": "code",
   "execution_count": 1,
   "metadata": {},
   "outputs": [
    {
     "data": {
      "text/plain": [
       "datetime.date(1996, 10, 20)"
      ]
     },
     "execution_count": 1,
     "metadata": {},
     "output_type": "execute_result"
    }
   ],
   "source": [
    "from faker import Faker\n",
    "\n",
    "fake = Faker('en_GB')\n",
    "\n",
    "fake.date_between(start_date='-10y', end_date='today')"
   ]
  },
  {
   "cell_type": "code",
   "execution_count": 113,
   "metadata": {},
   "outputs": [],
   "source": [
    "FPD = '2015-07-26'\n",
    "LPD = '2015-07-26'"
   ]
  },
  {
   "cell_type": "code",
   "execution_count": 114,
   "metadata": {},
   "outputs": [
    {
     "data": {
      "text/plain": [
       "0.1"
      ]
     },
     "execution_count": 114,
     "metadata": {},
     "output_type": "execute_result"
    }
   ],
   "source": [
    "0.1 if FPD == LPD else fake.random_int(min=15, max=100, step=5)/100"
   ]
  },
  {
   "cell_type": "code",
   "execution_count": 138,
   "metadata": {},
   "outputs": [],
   "source": [
    "OOP = fake.random_int(min=10, max=100, step=5) if FPD == LPD else fake.random_int(min=100, max=200, step=5)\n",
    "OOP = 65"
   ]
  },
  {
   "cell_type": "code",
   "execution_count": 139,
   "metadata": {},
   "outputs": [
    {
     "data": {
      "text/plain": [
       "0"
      ]
     },
     "execution_count": 139,
     "metadata": {},
     "output_type": "execute_result"
    }
   ],
   "source": [
    "IP = 0 if FPD == LPD else fake.random_int(min=150, max=400, step=5)\n",
    "IP"
   ]
  },
  {
   "cell_type": "code",
   "execution_count": 140,
   "metadata": {},
   "outputs": [
    {
     "data": {
      "text/plain": [
       "9"
      ]
     },
     "execution_count": 140,
     "metadata": {},
     "output_type": "execute_result"
    }
   ],
   "source": [
    "Purchase = OOP + IP\n",
    "int(Purchase * .15)"
   ]
  },
  {
   "cell_type": "code",
   "execution_count": 141,
   "metadata": {},
   "outputs": [
    {
     "data": {
      "text/plain": [
       "9.75"
      ]
     },
     "execution_count": 141,
     "metadata": {},
     "output_type": "execute_result"
    }
   ],
   "source": [
    "Purchase * .15"
   ]
  },
  {
   "cell_type": "code",
   "execution_count": 153,
   "metadata": {},
   "outputs": [],
   "source": [
    "FPD = str(fake.date_between(start_date='-5y', end_date=datetime.date(2017, 1, 20)))\n",
    "LPD = str(fake.date_between(start_date=datetime.date(2017, 1, 20), end_date='today'))"
   ]
  },
  {
   "cell_type": "code",
   "execution_count": 154,
   "metadata": {},
   "outputs": [
    {
     "data": {
      "text/plain": [
       "'2015-10-20'"
      ]
     },
     "execution_count": 154,
     "metadata": {},
     "output_type": "execute_result"
    }
   ],
   "source": [
    "FPD"
   ]
  },
  {
   "cell_type": "code",
   "execution_count": 155,
   "metadata": {},
   "outputs": [
    {
     "data": {
      "text/plain": [
       "'2020-01-01'"
      ]
     },
     "execution_count": 155,
     "metadata": {},
     "output_type": "execute_result"
    }
   ],
   "source": [
    "LPD"
   ]
  },
  {
   "cell_type": "code",
   "execution_count": null,
   "metadata": {},
   "outputs": [],
   "source": []
  }
 ],
 "metadata": {
  "kernelspec": {
   "display_name": "Python 3",
   "language": "python",
   "name": "python3"
  },
  "language_info": {
   "codemirror_mode": {
    "name": "ipython",
    "version": 3
   },
   "file_extension": ".py",
   "mimetype": "text/x-python",
   "name": "python",
   "nbconvert_exporter": "python",
   "pygments_lexer": "ipython3",
   "version": "3.7.3"
  }
 },
 "nbformat": 4,
 "nbformat_minor": 2
}
