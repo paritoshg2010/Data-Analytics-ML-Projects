{
 "cells": [
  {
   "cell_type": "markdown",
   "metadata": {},
   "source": [
    "-- check the correlation between retweet counts & features <br>\n",
    "-- OracleAnalytics generally retweets <br>\n",
    "-- Need to check, why the Retweets are getting truncated <br>\n",
    " <br>\n",
    " <br>\n",
    "-- Labeling the tweets as influential, where retweet counts are above threshold (10 for now) <br>\n",
    "-- Identifying the most frequent words in influential tweets <br>\n",
    "-- Checking the sentiments distribution for the influential tweets  <br>\n",
    "-- checking the count of entities <br>\n",
    "-- Measuring closeness centrality<br>\n"
   ]
  },
  {
   "cell_type": "code",
   "execution_count": 1,
   "metadata": {},
   "outputs": [],
   "source": [
    "import pandas as pd\n",
    "import numpy as np\n",
    "import seaborn as sns\n",
    "import matplotlib.pyplot as plt\n",
    "\n",
    "import re\n",
    "import emoji\n",
    "import spacy\n",
    "from spacy import displacy\n",
    "import en_core_web_sm\n",
    "nlp = en_core_web_sm.load()\n",
    "from collections import Counter\n",
    "\n",
    "\n",
    "import warnings\n",
    "warnings.filterwarnings('ignore')"
   ]
  },
  {
   "cell_type": "code",
   "execution_count": 110,
   "metadata": {},
   "outputs": [
    {
     "data": {
      "text/html": [
       "<div>\n",
       "<style scoped>\n",
       "    .dataframe tbody tr th:only-of-type {\n",
       "        vertical-align: middle;\n",
       "    }\n",
       "\n",
       "    .dataframe tbody tr th {\n",
       "        vertical-align: top;\n",
       "    }\n",
       "\n",
       "    .dataframe thead th {\n",
       "        text-align: right;\n",
       "    }\n",
       "</style>\n",
       "<table border=\"1\" class=\"dataframe\">\n",
       "  <thead>\n",
       "    <tr style=\"text-align: right;\">\n",
       "      <th></th>\n",
       "      <th>id</th>\n",
       "      <th>screen_name</th>\n",
       "      <th>created_at</th>\n",
       "      <th>retweeted</th>\n",
       "      <th>retweet_count</th>\n",
       "      <th>favorited</th>\n",
       "      <th>favorite_count</th>\n",
       "      <th>replyToSN</th>\n",
       "      <th>replyToUID</th>\n",
       "      <th>truncated</th>\n",
       "      <th>text</th>\n",
       "      <th>retweeted_status-user-screen_name</th>\n",
       "      <th>retweeted_status-user-description</th>\n",
       "    </tr>\n",
       "  </thead>\n",
       "  <tbody>\n",
       "    <tr>\n",
       "      <td>0</td>\n",
       "      <td>1184750546571317248</td>\n",
       "      <td>gabbyr</td>\n",
       "      <td>2019-10-17 08:38:36</td>\n",
       "      <td>False</td>\n",
       "      <td>7</td>\n",
       "      <td>False</td>\n",
       "      <td>0</td>\n",
       "      <td>NaN</td>\n",
       "      <td>NaN</td>\n",
       "      <td>False</td>\n",
       "      <td>#OracleAnalytics Meetup ALERT! Wednesday: 10/3...</td>\n",
       "      <td>brunoaziza</td>\n",
       "      <td>Entrepreneur. Disrupter. Technologist. Forbes ...</td>\n",
       "    </tr>\n",
       "    <tr>\n",
       "      <td>1</td>\n",
       "      <td>1184741944645173248</td>\n",
       "      <td>AhmedSa68398426</td>\n",
       "      <td>2019-10-17 08:04:25</td>\n",
       "      <td>False</td>\n",
       "      <td>9</td>\n",
       "      <td>False</td>\n",
       "      <td>0</td>\n",
       "      <td>NaN</td>\n",
       "      <td>NaN</td>\n",
       "      <td>False</td>\n",
       "      <td>Check out Oracle Analytics Cloud version 105.4...</td>\n",
       "      <td>OracleAnalytics</td>\n",
       "      <td>Official account for Oracle Analytics and Orac...</td>\n",
       "    </tr>\n",
       "    <tr>\n",
       "      <td>2</td>\n",
       "      <td>1184741774423552000</td>\n",
       "      <td>AhmedSa68398426</td>\n",
       "      <td>2019-10-17 08:03:45</td>\n",
       "      <td>False</td>\n",
       "      <td>3</td>\n",
       "      <td>False</td>\n",
       "      <td>0</td>\n",
       "      <td>NaN</td>\n",
       "      <td>NaN</td>\n",
       "      <td>False</td>\n",
       "      <td>#Register now for an Oracle Analytics workshop...</td>\n",
       "      <td>OracleAnalytics</td>\n",
       "      <td>Official account for Oracle Analytics and Orac...</td>\n",
       "    </tr>\n",
       "    <tr>\n",
       "      <td>3</td>\n",
       "      <td>1184731610899451904</td>\n",
       "      <td>iamkirantailor</td>\n",
       "      <td>2019-10-17 07:23:21</td>\n",
       "      <td>False</td>\n",
       "      <td>15</td>\n",
       "      <td>False</td>\n",
       "      <td>0</td>\n",
       "      <td>NaN</td>\n",
       "      <td>NaN</td>\n",
       "      <td>False</td>\n",
       "      <td>#OracleAnalytics Desktop version 5.4 is now av...</td>\n",
       "      <td>philippe_lions</td>\n",
       "      <td>Oracle #Analytics Product Manager, passionate ...</td>\n",
       "    </tr>\n",
       "    <tr>\n",
       "      <td>4</td>\n",
       "      <td>1184710169000734723</td>\n",
       "      <td>Oracle_Barry</td>\n",
       "      <td>2019-10-17 05:58:09</td>\n",
       "      <td>False</td>\n",
       "      <td>3</td>\n",
       "      <td>False</td>\n",
       "      <td>0</td>\n",
       "      <td>NaN</td>\n",
       "      <td>NaN</td>\n",
       "      <td>False</td>\n",
       "      <td>#Register now for an Oracle Analytics workshop...</td>\n",
       "      <td>OracleAnalytics</td>\n",
       "      <td>Official account for Oracle Analytics and Orac...</td>\n",
       "    </tr>\n",
       "  </tbody>\n",
       "</table>\n",
       "</div>"
      ],
      "text/plain": [
       "                    id      screen_name           created_at  retweeted  \\\n",
       "0  1184750546571317248           gabbyr  2019-10-17 08:38:36      False   \n",
       "1  1184741944645173248  AhmedSa68398426  2019-10-17 08:04:25      False   \n",
       "2  1184741774423552000  AhmedSa68398426  2019-10-17 08:03:45      False   \n",
       "3  1184731610899451904   iamkirantailor  2019-10-17 07:23:21      False   \n",
       "4  1184710169000734723     Oracle_Barry  2019-10-17 05:58:09      False   \n",
       "\n",
       "   retweet_count  favorited  favorite_count  replyToSN  replyToUID  truncated  \\\n",
       "0              7      False               0        NaN         NaN      False   \n",
       "1              9      False               0        NaN         NaN      False   \n",
       "2              3      False               0        NaN         NaN      False   \n",
       "3             15      False               0        NaN         NaN      False   \n",
       "4              3      False               0        NaN         NaN      False   \n",
       "\n",
       "                                                text  \\\n",
       "0  #OracleAnalytics Meetup ALERT! Wednesday: 10/3...   \n",
       "1  Check out Oracle Analytics Cloud version 105.4...   \n",
       "2  #Register now for an Oracle Analytics workshop...   \n",
       "3  #OracleAnalytics Desktop version 5.4 is now av...   \n",
       "4  #Register now for an Oracle Analytics workshop...   \n",
       "\n",
       "  retweeted_status-user-screen_name  \\\n",
       "0                        brunoaziza   \n",
       "1                   OracleAnalytics   \n",
       "2                   OracleAnalytics   \n",
       "3                    philippe_lions   \n",
       "4                   OracleAnalytics   \n",
       "\n",
       "                   retweeted_status-user-description  \n",
       "0  Entrepreneur. Disrupter. Technologist. Forbes ...  \n",
       "1  Official account for Oracle Analytics and Orac...  \n",
       "2  Official account for Oracle Analytics and Orac...  \n",
       "3  Oracle #Analytics Product Manager, passionate ...  \n",
       "4  Official account for Oracle Analytics and Orac...  "
      ]
     },
     "execution_count": 110,
     "metadata": {},
     "output_type": "execute_result"
    }
   ],
   "source": [
    "data = pd.read_csv('oracleanalytics_tweets_1st.csv')\n",
    "data.head()"
   ]
  },
  {
   "cell_type": "markdown",
   "metadata": {},
   "source": [
    "<h3> Network Graphs </h3>"
   ]
  },
  {
   "cell_type": "code",
   "execution_count": 111,
   "metadata": {},
   "outputs": [
    {
     "name": "stdout",
     "output_type": "stream",
     "text": [
      "Nodes in RT network: 97\n",
      "Edges in RT network: 186\n"
     ]
    }
   ],
   "source": [
    "# Import networkx\n",
    "import networkx as nx\n",
    "\n",
    "# Create retweet network from edgelist\n",
    "G_rt = nx.from_pandas_edgelist(\n",
    "    data,\n",
    "    source = 'screen_name',\n",
    "    target = 'retweeted_status-user-screen_name',\n",
    "    create_using = nx.DiGraph())\n",
    " \n",
    "# Print the number of nodes\n",
    "print('Nodes in RT network:', len(G_rt.nodes()))\n",
    "\n",
    "# Print the number of edges\n",
    "print('Edges in RT network:', len(G_rt.edges()))"
   ]
  },
  {
   "cell_type": "code",
   "execution_count": 112,
   "metadata": {},
   "outputs": [
    {
     "data": {
      "image/png": "[encoded data removed]",
      "text/plain": [
       "<Figure size 432x288 with 1 Axes>"
      ]
     },
     "metadata": {},
     "output_type": "display_data"
    }
   ],
   "source": [
    "# Create random layout positions\n",
    "pos = nx.random_layout(G_rt)\n",
    "\n",
    "\n",
    "# Create size list\n",
    "sizes = [x[1]*5 for x in G_rt.degree()]\n",
    "\n",
    "# Draw the network\n",
    "nx.draw_networkx(G_rt, pos, \n",
    "    with_labels = False, \n",
    "    node_size = sizes,\n",
    "    width = 0.1, alpha = 0.7,\n",
    "                 font_size = 5,\n",
    "    arrowsize = 3, linewidths = 1)\n",
    "\n",
    "# Turn axis off and show\n",
    "plt.axis('off'); \n",
    "plt.show()"
   ]
  },
  {
   "cell_type": "code",
   "execution_count": 113,
   "metadata": {},
   "outputs": [
    {
     "data": {
      "text/plain": [
       "philippe_lions     59\n",
       "OracleAnalytics    26\n",
       "BenjaminArnulf     26\n",
       "Oracle_Barry       23\n",
       "gabbyr             18\n",
       "Oracle_Doyle       14\n",
       "brunoaziza         11\n",
       "mmilella            8\n",
       "NevianaZhgaba       7\n",
       "Bec_Wagner          7\n",
       "alan_w_lee          6\n",
       "jvigeant            6\n",
       "mylesgilsenan       5\n",
       "PerfArchitects      4\n",
       "daanalytics_nl      2\n",
       "rittmanmead         2\n",
       "ConnyBjorling       2\n",
       "OracleBigData       2\n",
       "DataVizMark         2\n",
       "VerticeCloud        2\n",
       "HEXstreamHQ         1\n",
       "gtrauvit            1\n",
       "duncanhf            1\n",
       "usanalytics         1\n",
       "bimobilelabs        1\n",
       "CarrieVaiano        1\n",
       "VerticalEdgeCG      1\n",
       "prudence_IT         1\n",
       "Name: retweeted_status-user-screen_name, dtype: int64"
      ]
     },
     "execution_count": 113,
     "metadata": {},
     "output_type": "execute_result"
    }
   ],
   "source": [
    "#Identifying the frequently retweeted users\n",
    "data['retweeted_status-user-screen_name'].value_counts()"
   ]
  },
  {
   "cell_type": "code",
   "execution_count": 114,
   "metadata": {},
   "outputs": [
    {
     "name": "stderr",
     "output_type": "stream",
     "text": [
      "[nltk_data] Downloading package wordnet to C:\\Users\\Vertice\n",
      "[nltk_data]     Guest\\AppData\\Roaming\\nltk_data...\n",
      "[nltk_data]   Package wordnet is already up-to-date!\n"
     ]
    }
   ],
   "source": [
    "import string\n",
    "from sklearn.base import BaseEstimator, TransformerMixin\n",
    "from nltk.corpus import stopwords\n",
    "from nltk.stem import PorterStemmer\n",
    "from nltk.stem import WordNetLemmatizer \n",
    "from nltk.tokenize import word_tokenize\n",
    "import nltk\n",
    "nltk.download('wordnet')\n",
    "\n",
    "class CleanText(BaseEstimator, TransformerMixin):\n",
    "   \n",
    "    def remove_mentions(self, input_text):\n",
    "        return re.sub(r'@\\w+', '', input_text)\n",
    "    \n",
    "    def remove_urls(self, input_text):\n",
    "        return re.sub(r'http.?://[^\\s]+[\\s]?', '', input_text)\n",
    "    \n",
    "    def emoji_oneword(self, input_text):\n",
    "        # By compressing the underscore, the emoji is kept as one word\n",
    "        return input_text.replace('_','')\n",
    "    \n",
    "    def remove_punctuation(self, input_text):\n",
    "        # Make translation table\n",
    "        punct = string.punctuation\n",
    "        trantab = str.maketrans(punct, len(punct)*' ')  # Every punctuation symbol will be replaced by a space\n",
    "        return input_text.translate(trantab)\n",
    "\n",
    "    def remove_digits(self, input_text):\n",
    "        return re.sub('\\d+', '', input_text)\n",
    "    \n",
    "    def to_lower(self, input_text):\n",
    "        return input_text.lower()\n",
    "    \n",
    "    def remove_stopwords(self, input_text):\n",
    "        stopwords_list = stopwords.words('english')\n",
    "        # Some words which might indicate a certain sentiment are kept via a whitelist\n",
    "        whitelist = [\"n't\", \"not\", \"no\"]\n",
    "        words = input_text.split() \n",
    "        clean_words = [word for word in words if (word not in stopwords_list or word in whitelist) and len(word) > 1] \n",
    "        return \" \".join(clean_words)   \n",
    "\n",
    "    def lemmatizing(self, input_text):\n",
    "        lemmatizer = WordNetLemmatizer() \n",
    "        words = input_text.split() \n",
    "        return \" \".join([lemmatizer.lemmatize(word) for word in words])\n",
    "    \n",
    "    def fit(self, X, y=None, **fit_params):\n",
    "        return self\n",
    "    \n",
    "    def transform(self, X, **transform_params):\n",
    "        clean_X = X.apply(self.remove_mentions).apply(self.remove_urls).apply(self.emoji_oneword).apply(self.remove_punctuation).apply(self.remove_digits).apply(self.to_lower).apply(self.remove_stopwords).apply(self.lemmatizing)\n",
    "        return clean_X"
   ]
  },
  {
   "cell_type": "code",
   "execution_count": 115,
   "metadata": {},
   "outputs": [],
   "source": [
    "ct = CleanText()\n",
    "data['clean_text'] = ct.fit_transform(data.text)"
   ]
  },
  {
   "cell_type": "code",
   "execution_count": 116,
   "metadata": {},
   "outputs": [],
   "source": [
    "#creating class to convert text to features\n",
    "class TextToFeatures:\n",
    "    def __init__(self, df, textcol):\n",
    "        self.df = df\n",
    "        self.textcol = textcol\n",
    "        self.c = 'spacy_'+ textcol\n",
    "        self.df[self.c] = self.df[self.textcol].apply(lambda x: nlp(re.sub(r'http.?://[^\\s]+[\\s]?', '', x)))\n",
    "        \n",
    "        \n",
    "        self.pos_tags = ['NOUN', 'VERB', 'ADP', 'ADJ', 'DET', 'PROPN', 'INTJ', 'PUNCT',\\\n",
    "                         'NUM', 'PRON', 'ADV', 'PART']\n",
    "        self.dep_tags = ['amod', 'ROOT', 'punct', 'advmod', 'auxpass', 'nsubjpass',\\\n",
    "                         'ccomp', 'acomp', 'neg', 'nsubj', 'aux', 'agent', 'det', 'pobj',\\\n",
    "                         'prep', 'csubj', 'nummod', 'attr', 'acl', 'relcl', 'dobj', 'pcomp', \\\n",
    "                         'xcomp', 'cc', 'conj', 'mark', 'prt', 'compound', 'dep', 'advcl',\\\n",
    "                         'parataxis', 'poss', 'intj', 'appos', 'npadvmod', 'predet', 'case',\\\n",
    "                         'expl', 'oprd', 'dative', 'nmod']\n",
    "        \n",
    "      \n",
    "    #def cleaning(self, words):\n",
    "        \n",
    "        #removing punctuation, stop words and lematizing\n",
    "        #return ' '.join([word.lemma_ for word in words if word.is_punct == False & word.is_stop == False])\n",
    "    \n",
    "    def feature_extraction(self):\n",
    "        \n",
    "        #self.df['clean_text'] = self.df[self.c].apply(lambda x: self.cleaning(x)) \n",
    "        self.df['word_count'] = self.df[self.c].apply(lambda x:len([_ for _ in x]))\n",
    "        self.df['word_count_clean'] = self.df['clean_text'].apply(lambda x: len(x.split()))\n",
    "        self.df['char_count'] = self.df[self.textcol].apply(len)\n",
    "        self.df['stopword_count'] = self.df[self.c].apply(lambda x: len([_ for _ in x if _.is_stop==True]))\n",
    "        self.df['cap_word_counts'] = self.df[self.c].apply(lambda x: len([_ for _ in x if _.is_upper==True]))\n",
    "        self.df['mentions_count'] = self.df[self.c].apply(lambda x: len([_ for _ in x if _.text[0]=='@']))\n",
    "        self.df['hashtags_count'] = self.df[self.textcol].apply(lambda x: len(re.findall(r'#\\w+', x)))\n",
    "        self.df['count_excl_quest_marks'] = self.df[self.textcol].apply(lambda x: len(re.findall(r'!|\\?', x)))\n",
    "        self.df['count_urls'] = self.df[self.textcol].apply(lambda x: len(re.findall(r'http.?://[^\\s]+[\\s]?', x)))\n",
    "        self.df['count_emojis'] = self.df[self.textcol].apply(lambda x: len(re.findall(r':[a-z_&]+:', emoji.demojize(x))))\n",
    "        \n",
    "        self.df['pos_tags'] = self.df[self.c].apply(lambda x: dict(Counter([ _.head.pos_ for _ in x])))\n",
    "        self.df['dep_tags'] = self.df[self.c].apply(lambda x: dict(Counter([ _.head.dep_ for _ in x])))  \n",
    "    \n",
    "    def flatten_features(self):\n",
    "        \n",
    "        for key in self.pos_tags:\n",
    "            self.df['_'+key] = self.df['pos_tags'].apply(lambda x: x[key] if key in x else 0)\n",
    "        \n",
    "        for key in self.dep_tags:\n",
    "            self.df['_'+key] = self.df['dep_tags'].apply(lambda x: x[key] if key in x else 0)\n",
    "    \n",
    "    def generate_feaures(self):\n",
    "        self.feature_extraction()\n",
    "        self.flatten_features()\n",
    "        self.df.drop(['pos_tags', 'dep_tags', self.c], axis=1, inplace=True)\n",
    "        return self.df\n",
    "\n",
    "\n",
    "                                                            \n",
    "#wrapping above class into one funtion to generate features\n",
    "def get_features(df, textcol):\n",
    "    ft = TextToFeatures(df, textcol)\n",
    "    return ft.generate_feaures()"
   ]
  },
  {
   "cell_type": "code",
   "execution_count": 117,
   "metadata": {},
   "outputs": [],
   "source": [
    "df_eda = get_features(data, 'text')"
   ]
  },
  {
   "cell_type": "code",
   "execution_count": 118,
   "metadata": {},
   "outputs": [],
   "source": [
    "data.fillna('', inplace = True)"
   ]
  },
  {
   "cell_type": "markdown",
   "metadata": {},
   "source": [
    "<h3> Finding the frequent words</h3>"
   ]
  },
  {
   "cell_type": "code",
   "execution_count": 119,
   "metadata": {},
   "outputs": [],
   "source": [
    "from sklearn.feature_extraction.text import CountVectorizer\n",
    "\n",
    "def get_top_n_words(corpus, n=None):\n",
    "    \"\"\"\n",
    "    List the top n words in a vocabulary according to occurrence in a text corpus.\n",
    "    \n",
    "    get_top_n_words([\"I love Python\", \"Python is a language programming\", \"Hello world\", \"I love the world\"]) -> \n",
    "    [('python', 2),\n",
    "     ('world', 2),\n",
    "     ('love', 2),\n",
    "     ('hello', 1),\n",
    "     ('is', 1),\n",
    "     ('programming', 1),\n",
    "     ('the', 1),\n",
    "     ('language', 1)]\n",
    "    \"\"\"\n",
    "    vec = CountVectorizer().fit(corpus)\n",
    "    bag_of_words = vec.transform(corpus)\n",
    "    sum_words = bag_of_words.sum(axis=0) \n",
    "    words_freq = [(word, sum_words[0, idx]) for word, idx in     vec.vocabulary_.items()]\n",
    "    words_freq =sorted(words_freq, key = lambda x: x[1], reverse=True)\n",
    "    return words_freq[:n]"
   ]
  },
  {
   "cell_type": "code",
   "execution_count": 120,
   "metadata": {},
   "outputs": [],
   "source": [
    "#defining the threshold for influential retweets\n",
    "data['influential'] = data['retweet_count'].apply(lambda x: 1 if x>10 else 0)"
   ]
  },
  {
   "cell_type": "code",
   "execution_count": 121,
   "metadata": {},
   "outputs": [
    {
     "data": {
      "text/plain": [
       "[('oracleanalytics', 45),\n",
       " ('oac', 35),\n",
       " ('feature', 34),\n",
       " ('desktop', 28),\n",
       " ('simple', 22),\n",
       " ('update', 20),\n",
       " ('go', 20),\n",
       " ('live', 20),\n",
       " ('deploy', 20),\n",
       " ('environment', 20),\n",
       " ('check', 20),\n",
       " ('new', 20),\n",
       " ('coming', 20),\n",
       " ('first', 20),\n",
       " ('list', 20),\n",
       " ('selected', 20),\n",
       " ('item', 20),\n",
       " ('stay', 20),\n",
       " ('tuned', 20),\n",
       " ('whole', 20),\n",
       " ('team', 20),\n",
       " ('example', 20),\n",
       " ('version', 14),\n",
       " ('available', 14),\n",
       " ('download', 14),\n",
       " ('oracle', 14),\n",
       " ('web', 14),\n",
       " ('site', 14),\n",
       " ('enjoy', 14),\n",
       " ('latest', 14),\n",
       " ('exciting', 14),\n",
       " ('based', 14),\n",
       " ('install', 14),\n",
       " ('everything', 11),\n",
       " ('copy', 11),\n",
       " ('paste', 11),\n",
       " ('amp', 2),\n",
       " ('ready', 1),\n",
       " ('analytics', 1),\n",
       " ('goodness', 1),\n",
       " ('join', 1),\n",
       " ('get', 1),\n",
       " ('exclusive', 1),\n",
       " ('oow', 1),\n",
       " ('announcement', 1),\n",
       " ('recap', 1),\n",
       " ('engage', 1),\n",
       " ('panel', 1),\n",
       " ('event', 1),\n",
       " ('sponsor', 1),\n",
       " ('part', 1),\n",
       " ('halloween', 1),\n",
       " ('datathon', 1)]"
      ]
     },
     "execution_count": 121,
     "metadata": {},
     "output_type": "execute_result"
    }
   ],
   "source": [
    "get_top_n_words(data[data.influential == 1].clean_text, n=100)"
   ]
  },
  {
   "cell_type": "markdown",
   "metadata": {},
   "source": [
    "<h3> Evaluating the sentiment distribution</h3>"
   ]
  },
  {
   "cell_type": "code",
   "execution_count": 122,
   "metadata": {},
   "outputs": [
    {
     "data": {
      "text/html": [
       "<div>\n",
       "<style scoped>\n",
       "    .dataframe tbody tr th:only-of-type {\n",
       "        vertical-align: middle;\n",
       "    }\n",
       "\n",
       "    .dataframe tbody tr th {\n",
       "        vertical-align: top;\n",
       "    }\n",
       "\n",
       "    .dataframe thead th {\n",
       "        text-align: right;\n",
       "    }\n",
       "</style>\n",
       "<table border=\"1\" class=\"dataframe\">\n",
       "  <thead>\n",
       "    <tr style=\"text-align: right;\">\n",
       "      <th></th>\n",
       "      <th>id</th>\n",
       "      <th>screen_name</th>\n",
       "      <th>created_at</th>\n",
       "      <th>retweeted</th>\n",
       "      <th>retweet_count</th>\n",
       "      <th>favorited</th>\n",
       "      <th>favorite_count</th>\n",
       "      <th>replyToSN</th>\n",
       "      <th>replyToUID</th>\n",
       "      <th>truncated</th>\n",
       "      <th>...</th>\n",
       "      <th>_case</th>\n",
       "      <th>_expl</th>\n",
       "      <th>_oprd</th>\n",
       "      <th>_dative</th>\n",
       "      <th>_nmod</th>\n",
       "      <th>influential</th>\n",
       "      <th>neg</th>\n",
       "      <th>neu</th>\n",
       "      <th>pos</th>\n",
       "      <th>compound</th>\n",
       "    </tr>\n",
       "  </thead>\n",
       "  <tbody>\n",
       "    <tr>\n",
       "      <td>0</td>\n",
       "      <td>1184750546571317248</td>\n",
       "      <td>gabbyr</td>\n",
       "      <td>2019-10-17 08:38:36</td>\n",
       "      <td>False</td>\n",
       "      <td>7</td>\n",
       "      <td>False</td>\n",
       "      <td>0</td>\n",
       "      <td></td>\n",
       "      <td></td>\n",
       "      <td>False</td>\n",
       "      <td>...</td>\n",
       "      <td>0</td>\n",
       "      <td>0</td>\n",
       "      <td>0</td>\n",
       "      <td>0</td>\n",
       "      <td>0</td>\n",
       "      <td>0</td>\n",
       "      <td>0.0</td>\n",
       "      <td>0.821</td>\n",
       "      <td>0.179</td>\n",
       "      <td>0.3612</td>\n",
       "    </tr>\n",
       "    <tr>\n",
       "      <td>1</td>\n",
       "      <td>1184741944645173248</td>\n",
       "      <td>AhmedSa68398426</td>\n",
       "      <td>2019-10-17 08:04:25</td>\n",
       "      <td>False</td>\n",
       "      <td>9</td>\n",
       "      <td>False</td>\n",
       "      <td>0</td>\n",
       "      <td></td>\n",
       "      <td></td>\n",
       "      <td>False</td>\n",
       "      <td>...</td>\n",
       "      <td>0</td>\n",
       "      <td>0</td>\n",
       "      <td>0</td>\n",
       "      <td>0</td>\n",
       "      <td>0</td>\n",
       "      <td>0</td>\n",
       "      <td>0.0</td>\n",
       "      <td>1.000</td>\n",
       "      <td>0.000</td>\n",
       "      <td>0.0000</td>\n",
       "    </tr>\n",
       "    <tr>\n",
       "      <td>2</td>\n",
       "      <td>1184741774423552000</td>\n",
       "      <td>AhmedSa68398426</td>\n",
       "      <td>2019-10-17 08:03:45</td>\n",
       "      <td>False</td>\n",
       "      <td>3</td>\n",
       "      <td>False</td>\n",
       "      <td>0</td>\n",
       "      <td></td>\n",
       "      <td></td>\n",
       "      <td>False</td>\n",
       "      <td>...</td>\n",
       "      <td>0</td>\n",
       "      <td>0</td>\n",
       "      <td>0</td>\n",
       "      <td>0</td>\n",
       "      <td>0</td>\n",
       "      <td>0</td>\n",
       "      <td>0.0</td>\n",
       "      <td>0.625</td>\n",
       "      <td>0.375</td>\n",
       "      <td>0.7184</td>\n",
       "    </tr>\n",
       "    <tr>\n",
       "      <td>3</td>\n",
       "      <td>1184731610899451904</td>\n",
       "      <td>iamkirantailor</td>\n",
       "      <td>2019-10-17 07:23:21</td>\n",
       "      <td>False</td>\n",
       "      <td>15</td>\n",
       "      <td>False</td>\n",
       "      <td>0</td>\n",
       "      <td></td>\n",
       "      <td></td>\n",
       "      <td>False</td>\n",
       "      <td>...</td>\n",
       "      <td>0</td>\n",
       "      <td>0</td>\n",
       "      <td>0</td>\n",
       "      <td>0</td>\n",
       "      <td>0</td>\n",
       "      <td>1</td>\n",
       "      <td>0.0</td>\n",
       "      <td>0.686</td>\n",
       "      <td>0.314</td>\n",
       "      <td>0.7506</td>\n",
       "    </tr>\n",
       "    <tr>\n",
       "      <td>4</td>\n",
       "      <td>1184710169000734723</td>\n",
       "      <td>Oracle_Barry</td>\n",
       "      <td>2019-10-17 05:58:09</td>\n",
       "      <td>False</td>\n",
       "      <td>3</td>\n",
       "      <td>False</td>\n",
       "      <td>0</td>\n",
       "      <td></td>\n",
       "      <td></td>\n",
       "      <td>False</td>\n",
       "      <td>...</td>\n",
       "      <td>0</td>\n",
       "      <td>0</td>\n",
       "      <td>0</td>\n",
       "      <td>0</td>\n",
       "      <td>0</td>\n",
       "      <td>0</td>\n",
       "      <td>0.0</td>\n",
       "      <td>0.625</td>\n",
       "      <td>0.375</td>\n",
       "      <td>0.7184</td>\n",
       "    </tr>\n",
       "  </tbody>\n",
       "</table>\n",
       "<p>5 rows × 82 columns</p>\n",
       "</div>"
      ],
      "text/plain": [
       "                    id      screen_name           created_at  retweeted  \\\n",
       "0  1184750546571317248           gabbyr  2019-10-17 08:38:36      False   \n",
       "1  1184741944645173248  AhmedSa68398426  2019-10-17 08:04:25      False   \n",
       "2  1184741774423552000  AhmedSa68398426  2019-10-17 08:03:45      False   \n",
       "3  1184731610899451904   iamkirantailor  2019-10-17 07:23:21      False   \n",
       "4  1184710169000734723     Oracle_Barry  2019-10-17 05:58:09      False   \n",
       "\n",
       "   retweet_count  favorited  favorite_count replyToSN replyToUID  truncated  \\\n",
       "0              7      False               0                           False   \n",
       "1              9      False               0                           False   \n",
       "2              3      False               0                           False   \n",
       "3             15      False               0                           False   \n",
       "4              3      False               0                           False   \n",
       "\n",
       "   ... _case _expl _oprd _dative  _nmod  influential  neg    neu    pos  \\\n",
       "0  ...     0     0     0       0      0            0  0.0  0.821  0.179   \n",
       "1  ...     0     0     0       0      0            0  0.0  1.000  0.000   \n",
       "2  ...     0     0     0       0      0            0  0.0  0.625  0.375   \n",
       "3  ...     0     0     0       0      0            1  0.0  0.686  0.314   \n",
       "4  ...     0     0     0       0      0            0  0.0  0.625  0.375   \n",
       "\n",
       "   compound  \n",
       "0    0.3612  \n",
       "1    0.0000  \n",
       "2    0.7184  \n",
       "3    0.7506  \n",
       "4    0.7184  \n",
       "\n",
       "[5 rows x 82 columns]"
      ]
     },
     "execution_count": 122,
     "metadata": {},
     "output_type": "execute_result"
    }
   ],
   "source": [
    "#evaluating the sentiment scores for reviews\n",
    "from vaderSentiment.vaderSentiment import SentimentIntensityAnalyzer\n",
    "\n",
    "def sentiment_score(review):\n",
    "    analyser = SentimentIntensityAnalyzer()\n",
    "    return analyser.polarity_scores(review)\n",
    "\n",
    "sentiment_results = [sentiment_score(row) for row in data['clean_text']]\n",
    "\n",
    "data = data.join(pd.DataFrame(sentiment_results))\n",
    "data.head()"
   ]
  },
  {
   "cell_type": "code",
   "execution_count": 123,
   "metadata": {},
   "outputs": [
    {
     "data": {
      "text/plain": [
       "<matplotlib.legend.Legend at 0x1bc077b2f60>"
      ]
     },
     "execution_count": 123,
     "metadata": {},
     "output_type": "execute_result"
    },
    {
     "data": {
      "image/png": "[encoded data removed]",
      "text/plain": [
       "<Figure size 720x432 with 1 Axes>"
      ]
     },
     "metadata": {
      "needs_background": "light"
     },
     "output_type": "display_data"
    }
   ],
   "source": [
    "from scipy import stats\n",
    "\n",
    "plt.figure(figsize = (10,6))\n",
    "sns.distplot(data[data.influential == 0]['compound'], kde=False, bins = 50, fit=stats.gamma, label = 'Not-influential')\n",
    "sns.distplot(data[data.influential == 1]['compound'], kde=False, bins = 50,  fit=stats.gamma, label = 'Influential')\n",
    "plt.legend()"
   ]
  },
  {
   "cell_type": "markdown",
   "metadata": {},
   "source": [
    "For the influential tweet, mostly the tweets are in neutral sentiment or close to 0.75"
   ]
  },
  {
   "cell_type": "code",
   "execution_count": 124,
   "metadata": {},
   "outputs": [
    {
     "data": {
      "text/plain": [
       "count    46.000000\n",
       "mean      0.247193\n",
       "std       0.359651\n",
       "min       0.000000\n",
       "25%       0.000000\n",
       "50%       0.000000\n",
       "75%       0.750600\n",
       "max       0.862500\n",
       "Name: compound, dtype: float64"
      ]
     },
     "execution_count": 124,
     "metadata": {},
     "output_type": "execute_result"
    }
   ],
   "source": [
    "data[data.influential == 1]['compound'].describe()"
   ]
  },
  {
   "cell_type": "markdown",
   "metadata": {},
   "source": [
    "<h3> Viewing the correlation of other features with retweet count</h3>"
   ]
  },
  {
   "cell_type": "code",
   "execution_count": 125,
   "metadata": {},
   "outputs": [
    {
     "data": {
      "image/png": "[encoded data removed]",
      "text/plain": [
       "<Figure size 1800x1440 with 2 Axes>"
      ]
     },
     "metadata": {
      "needs_background": "light"
     },
     "output_type": "display_data"
    }
   ],
   "source": [
    "plt.figure(figsize=(25,20))\n",
    "corr = df_eda.corr()\n",
    "ax = sns.heatmap(\n",
    "    corr, \n",
    "    vmin=-1, vmax=1, center=0,\n",
    "    cmap=sns.diverging_palette(20, 220, n=200),\n",
    "    square=True\n",
    ")\n",
    "ax.set_xticklabels(\n",
    "    ax.get_xticklabels(),\n",
    "    rotation=45,\n",
    "    horizontalalignment='right'\n",
    ");"
   ]
  },
  {
   "cell_type": "markdown",
   "metadata": {},
   "source": [
    "their are several features which have correlation with retweet count"
   ]
  },
  {
   "cell_type": "code",
   "execution_count": 126,
   "metadata": {},
   "outputs": [],
   "source": [
    "from sklearn.linear_model import LogisticRegression\n",
    "from sklearn.neighbors import KNeighborsClassifier\n",
    "from sklearn.svm import SVC\n",
    "from sklearn.tree import DecisionTreeClassifier\n",
    "from sklearn.ensemble import RandomForestClassifier, AdaBoostClassifier\n",
    "from sklearn.naive_bayes import GaussianNB\n",
    "from sklearn.model_selection import train_test_split\n",
    "from sklearn.metrics import accuracy_score\n",
    "\n",
    "Classifiers = [\n",
    "    LogisticRegression(C=0.000000001,solver='liblinear',max_iter=200),\n",
    "    KNeighborsClassifier(3),\n",
    "    SVC(kernel=\"rbf\", C=0.025, probability=True),\n",
    "    DecisionTreeClassifier(),\n",
    "    RandomForestClassifier(n_estimators=200),\n",
    "    AdaBoostClassifier(),\n",
    "    GaussianNB()]"
   ]
  },
  {
   "cell_type": "code",
   "execution_count": 271,
   "metadata": {},
   "outputs": [
    {
     "name": "stdout",
     "output_type": "stream",
     "text": [
      "Accuracy of LogisticRegression is 0.9583333333333334\n",
      "Accuracy of KNeighborsClassifier is 0.9791666666666666\n",
      "Accuracy of SVC is 0.8125\n",
      "Accuracy of DecisionTreeClassifier is 0.9791666666666666\n",
      "Accuracy of RandomForestClassifier is 0.9791666666666666\n",
      "Accuracy of AdaBoostClassifier is 0.9791666666666666\n",
      "Accuracy of GaussianNB is 0.9583333333333334\n"
     ]
    }
   ],
   "source": [
    "from sklearn.model_selection import train_test_split\n",
    "train, test = train_test_split(data.drop(['id', 'screen_name', 'created_at', 'retweeted', 'retweet_count', \n",
    "                                           'favorited', 'favorite_count', 'replyToSN','replyToUID', 'truncated',\n",
    "                                           'text'], axis =1) ,test_size=0.2,random_state=42)\n",
    "\n",
    "from sklearn.feature_extraction.text import CountVectorizer\n",
    "v = CountVectorizer(analyzer = \"word\", ngram_range=(2,3))\n",
    "train_features= v.fit_transform(train.clean_text)\n",
    "test_features=v.transform(test.clean_text)\n",
    "\n",
    "dense_features=train_features.toarray()\n",
    "dense_test= test_features.toarray()\n",
    "Accuracy=[]\n",
    "Model=[]\n",
    "for classifier in Classifiers:\n",
    "    try:\n",
    "        fit = classifier.fit(train_features,train.influential)\n",
    "        pred = classifier.predict(test_features)\n",
    "    except Exception:\n",
    "        fit = classifier.fit(dense_features,train.influential)\n",
    "        pred = classifier.predict(dense_test)\n",
    "    accuracy = accuracy_score(pred,test.influential)\n",
    "    Accuracy.append(accuracy)\n",
    "    Model.append(classifier.__class__.__name__)\n",
    "    print('Accuracy of '+classifier.__class__.__name__+' is '+str(accuracy))\n"
   ]
  },
  {
   "cell_type": "code",
   "execution_count": 273,
   "metadata": {
    "scrolled": true
   },
   "outputs": [
    {
     "data": {
      "image/png": "[encoded data removed]",
      "text/plain": [
       "<Figure size 432x288 with 1 Axes>"
      ]
     },
     "metadata": {
      "needs_background": "light"
     },
     "output_type": "display_data"
    }
   ],
   "source": [
    "feat_importances = pd.Series(Classifiers[5].feature_importances_)\n",
    "feat_importances.nlargest(20).plot(kind='barh')\n",
    "plt.show()"
   ]
  },
  {
   "cell_type": "code",
   "execution_count": 274,
   "metadata": {},
   "outputs": [
    {
     "name": "stdout",
     "output_type": "stream",
     "text": [
      "copy paste\n",
      "copy paste oracleanalytics\n",
      "enjoy latest exciting\n",
      "environment check new\n",
      "everything simple copy\n",
      "feature desktop based\n",
      "new feature coming\n",
      "oracleanalytics simple\n",
      "paste oracleanalytics simple\n",
      "selected item\n",
      "site enjoy\n",
      "team example\n",
      "available download\n",
      "available download oracle\n",
      "coming first list\n",
      "desktop based\n",
      "desktop version\n",
      "download oracle web\n",
      "everything simple\n",
      "exciting feature\n"
     ]
    }
   ],
   "source": [
    "for i in feat_importances.nlargest(20).index:\n",
    "    print(list(v.vocabulary_)[list(v.vocabulary_.values()).index(i)])"
   ]
  },
  {
   "cell_type": "code",
   "execution_count": 275,
   "metadata": {},
   "outputs": [
    {
     "data": {
      "text/plain": [
       "{'neg': 0.08, 'neu': 0.818, 'pos': 0.103, 'compound': 0.0258}"
      ]
     },
     "execution_count": 275,
     "metadata": {},
     "output_type": "execute_result"
    }
   ],
   "source": [
    "test_word = \"everything as simple as copy paste Join Vertice at Oracle’s Moorgate offices on 27th November to see how Oracle Autonomous Data Warehouse and Oracle Analytics Cloud can help you and your company detect fraud. #Oracle #MachineLearning #OracleAce #Data #AIDriven #Fraud #Autonoumous #Database\"\n",
    "\n",
    "sentiment_score(test_word)"
   ]
  },
  {
   "cell_type": "code",
   "execution_count": 276,
   "metadata": {},
   "outputs": [
    {
     "name": "stdout",
     "output_type": "stream",
     "text": [
      "Prediction of LogisticRegression is : 0\n",
      "Prediction of KNeighborsClassifier is : 1\n",
      "Prediction of SVC is : 0\n",
      "Prediction of DecisionTreeClassifier is : 1\n",
      "Prediction of RandomForestClassifier is : 0\n",
      "Prediction of AdaBoostClassifier is : 1\n",
      "Prediction of GaussianNB is : 1\n"
     ]
    }
   ],
   "source": [
    "ct_test = CleanText()\n",
    "cln_test_word = ct_test.fit_transform(pd.Series(test_word))\n",
    "\n",
    "v_test_word = v.transform(cln_test_word)\n",
    "\n",
    "for classifier in Classifiers:\n",
    "    try:\n",
    "        print('Prediction of '+classifier.__class__.__name__+' is : '+str(classifier.predict(v_test_word)[0]))\n",
    "    except Exception:\n",
    "        print('Prediction of '+classifier.__class__.__name__+' is : '+str(classifier.predict(v_test_word.toarray())[0]))\n"
   ]
  },
  {
   "cell_type": "code",
   "execution_count": 215,
   "metadata": {},
   "outputs": [
    {
     "data": {
      "text/plain": [
       "'join dr abigail giles–haigh chief data science officer vertice oracle ace oracle’s moorgate office th november learn oracle autonomous data warehouse help business prevent fraud oracle machinelearning oracleace data aidriven fraud autonoumous database'"
      ]
     },
     "execution_count": 215,
     "metadata": {},
     "output_type": "execute_result"
    }
   ],
   "source": [
    "cln_test_word[0]"
   ]
  },
  {
   "cell_type": "code",
   "execution_count": 216,
   "metadata": {},
   "outputs": [
    {
     "data": {
      "text/html": [
       "<div>\n",
       "<style scoped>\n",
       "    .dataframe tbody tr th:only-of-type {\n",
       "        vertical-align: middle;\n",
       "    }\n",
       "\n",
       "    .dataframe tbody tr th {\n",
       "        vertical-align: top;\n",
       "    }\n",
       "\n",
       "    .dataframe thead th {\n",
       "        text-align: right;\n",
       "    }\n",
       "</style>\n",
       "<table border=\"1\" class=\"dataframe\">\n",
       "  <thead>\n",
       "    <tr style=\"text-align: right;\">\n",
       "      <th></th>\n",
       "      <th>retweeted_status-user-screen_name</th>\n",
       "      <th>retweeted_status-user-description</th>\n",
       "      <th>clean_text</th>\n",
       "      <th>word_count</th>\n",
       "      <th>word_count_clean</th>\n",
       "      <th>char_count</th>\n",
       "      <th>stopword_count</th>\n",
       "      <th>cap_word_counts</th>\n",
       "      <th>mentions_count</th>\n",
       "      <th>hashtags_count</th>\n",
       "      <th>...</th>\n",
       "      <th>_predet</th>\n",
       "      <th>_case</th>\n",
       "      <th>_expl</th>\n",
       "      <th>_oprd</th>\n",
       "      <th>_dative</th>\n",
       "      <th>_nmod</th>\n",
       "      <th>neg</th>\n",
       "      <th>neu</th>\n",
       "      <th>pos</th>\n",
       "      <th>compound</th>\n",
       "    </tr>\n",
       "    <tr>\n",
       "      <th>influential</th>\n",
       "      <th></th>\n",
       "      <th></th>\n",
       "      <th></th>\n",
       "      <th></th>\n",
       "      <th></th>\n",
       "      <th></th>\n",
       "      <th></th>\n",
       "      <th></th>\n",
       "      <th></th>\n",
       "      <th></th>\n",
       "      <th></th>\n",
       "      <th></th>\n",
       "      <th></th>\n",
       "      <th></th>\n",
       "      <th></th>\n",
       "      <th></th>\n",
       "      <th></th>\n",
       "      <th></th>\n",
       "      <th></th>\n",
       "      <th></th>\n",
       "      <th></th>\n",
       "    </tr>\n",
       "  </thead>\n",
       "  <tbody>\n",
       "    <tr>\n",
       "      <td>0</td>\n",
       "      <td>39</td>\n",
       "      <td>39</td>\n",
       "      <td>39</td>\n",
       "      <td>39</td>\n",
       "      <td>39</td>\n",
       "      <td>39</td>\n",
       "      <td>39</td>\n",
       "      <td>39</td>\n",
       "      <td>39</td>\n",
       "      <td>39</td>\n",
       "      <td>...</td>\n",
       "      <td>39</td>\n",
       "      <td>39</td>\n",
       "      <td>39</td>\n",
       "      <td>39</td>\n",
       "      <td>39</td>\n",
       "      <td>39</td>\n",
       "      <td>39</td>\n",
       "      <td>39</td>\n",
       "      <td>39</td>\n",
       "      <td>39</td>\n",
       "    </tr>\n",
       "    <tr>\n",
       "      <td>1</td>\n",
       "      <td>9</td>\n",
       "      <td>9</td>\n",
       "      <td>9</td>\n",
       "      <td>9</td>\n",
       "      <td>9</td>\n",
       "      <td>9</td>\n",
       "      <td>9</td>\n",
       "      <td>9</td>\n",
       "      <td>9</td>\n",
       "      <td>9</td>\n",
       "      <td>...</td>\n",
       "      <td>9</td>\n",
       "      <td>9</td>\n",
       "      <td>9</td>\n",
       "      <td>9</td>\n",
       "      <td>9</td>\n",
       "      <td>9</td>\n",
       "      <td>9</td>\n",
       "      <td>9</td>\n",
       "      <td>9</td>\n",
       "      <td>9</td>\n",
       "    </tr>\n",
       "  </tbody>\n",
       "</table>\n",
       "<p>2 rows × 70 columns</p>\n",
       "</div>"
      ],
      "text/plain": [
       "             retweeted_status-user-screen_name  \\\n",
       "influential                                      \n",
       "0                                           39   \n",
       "1                                            9   \n",
       "\n",
       "             retweeted_status-user-description  clean_text  word_count  \\\n",
       "influential                                                              \n",
       "0                                           39          39          39   \n",
       "1                                            9           9           9   \n",
       "\n",
       "             word_count_clean  char_count  stopword_count  cap_word_counts  \\\n",
       "influential                                                                  \n",
       "0                          39          39              39               39   \n",
       "1                           9           9               9                9   \n",
       "\n",
       "             mentions_count  hashtags_count  ...  _predet  _case  _expl  \\\n",
       "influential                                  ...                          \n",
       "0                        39              39  ...       39     39     39   \n",
       "1                         9               9  ...        9      9      9   \n",
       "\n",
       "             _oprd  _dative  _nmod  neg  neu  pos  compound  \n",
       "influential                                                  \n",
       "0               39       39     39   39   39   39        39  \n",
       "1                9        9      9    9    9    9         9  \n",
       "\n",
       "[2 rows x 70 columns]"
      ]
     },
     "execution_count": 216,
     "metadata": {},
     "output_type": "execute_result"
    }
   ],
   "source": [
    "test.groupby(['influential']).count()"
   ]
  },
  {
   "cell_type": "code",
   "execution_count": 103,
   "metadata": {},
   "outputs": [
    {
     "data": {
      "text/plain": [
       "(384, 71)"
      ]
     },
     "execution_count": 103,
     "metadata": {},
     "output_type": "execute_result"
    }
   ],
   "source": [
    "train.shape"
   ]
  },
  {
   "cell_type": "code",
   "execution_count": null,
   "metadata": {},
   "outputs": [],
   "source": []
  }
 ],
 "metadata": {
  "kernelspec": {
   "display_name": "Python 3",
   "language": "python",
   "name": "python3"
  },
  "language_info": {
   "codemirror_mode": {
    "name": "ipython",
    "version": 3
   },
   "file_extension": ".py",
   "mimetype": "text/x-python",
   "name": "python",
   "nbconvert_exporter": "python",
   "pygments_lexer": "ipython3",
   "version": "3.7.3"
  }
 },
 "nbformat": 4,
 "nbformat_minor": 2
}
